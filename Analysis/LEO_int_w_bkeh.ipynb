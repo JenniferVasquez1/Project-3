{
 "cells": [
  {
   "cell_type": "code",
   "execution_count": 28,
   "metadata": {},
   "outputs": [
    {
     "name": "stdout",
     "output_type": "stream",
     "text": [
      "Correlation coefficient between AQI and total: 0.09918364845115557\n"
     ]
    },
    {
     "data": {
      "text/plain": [
       "'/Users/leomarcrowal/GitHuB_Local/Project-3/static/pages/correlation_of_AQI_vs_TotalNGas.html'"
      ]
     },
     "execution_count": 28,
     "metadata": {},
     "output_type": "execute_result"
    }
   ],
   "source": [
    "\n",
    "import sqlite3\n",
    "import pandas as pd\n",
    "from bokeh.plotting import figure, save, output_file, curdoc\n",
    "from bokeh.models import ColumnDataSource, HoverTool, ColorBar, BasicTicker, PrintfTickFormatter, Div\n",
    "from bokeh.transform import linear_cmap\n",
    "from bokeh.layouts import column\n",
    "from bokeh.palettes import Viridis256\n",
    "import numpy as np\n",
    "\n",
    "# Connect to SQLite database\n",
    "conn = sqlite3.connect('/Users/leomarcrowal/GitHuB_Local/Project-3/static/Resources/new_aqi_ngsDB.sqlite')\n",
    "\n",
    "# Write an SQL query\n",
    "query = \"SELECT AQI, total, month, state_name FROM combined_df\"\n",
    "\n",
    "# Execute the query and load the data into a DataFrame\n",
    "df = pd.read_sql_query(query, conn)\n",
    "\n",
    "# Calculate the correlation coefficient between AQI and total\n",
    "correlation = df['AQI'].corr(df['total'])\n",
    "print(f\"Correlation coefficient between AQI and total: {correlation}\")\n",
    "\n",
    "# Prepare data for Bokeh\n",
    "source = ColumnDataSource(df)\n",
    "\n",
    "# Calculate linear regression\n",
    "slope, intercept = np.polyfit(df['AQI'], df['total'], 1)\n",
    "regression_line = slope * df['AQI'] + intercept\n",
    "\n",
    "# Create a new scatter plot\n",
    "p = figure(title=f'Scatter Plot of AQI vs Total (Correlation: {correlation:.2f})',\n",
    "           x_axis_label='AQI', y_axis_label='Total', width=700, height=400,\n",
    "           tools=\"pan,wheel_zoom,box_zoom,reset,save,hover\", active_drag=\"box_zoom\", active_scroll=\"wheel_zoom\")\n",
    "\n",
    "# Map the AQI values to colors using a new linear color mapper\n",
    "mapper = linear_cmap(field_name='AQI', palette=Viridis256, low=df['AQI'].min(), high=df['AQI'].max())\n",
    "\n",
    "# Add scatter glyphs to the plot using scatter() instead of circle()\n",
    "p.scatter(x='AQI', y='total', size=8, color=mapper, source=source, line_alpha=0.6, fill_alpha=0.6, \n",
    "          selection_color=\"firebrick\", nonselection_fill_alpha=0.2, nonselection_line_alpha=0.2)\n",
    "\n",
    "# Add the linear regression line\n",
    "p.line(df['AQI'], regression_line, line_width=2, color='red', legend_label='Linear Regression')\n",
    "\n",
    "# Add a color bar to show the AQI color scale\n",
    "color_bar = ColorBar(color_mapper=mapper['transform'], width=8, location=(0,0),\n",
    "                     ticker=BasicTicker(desired_num_ticks=10),\n",
    "                     formatter=PrintfTickFormatter(format=\"%d\"))\n",
    "\n",
    "p.add_layout(color_bar, 'right')\n",
    "\n",
    "# Add tooltips to show information on hover\n",
    "p.hover.tooltips = [\n",
    "    (\"State\", \"@state_name\"),\n",
    "    (\"Month\", \"@month\"),\n",
    "    (\"AQI\", \"@AQI\"),\n",
    "    (\"Total\", \"@total\"),\n",
    "]\n",
    "\n",
    "# Create a Div widget to display the comparison text\n",
    "div_text = Div(\n",
    "    text=\"\"\"\n",
    "    <div style=\"text-align: center; background-color:lightgreen; padding: 10px;\">\n",
    "        <h2>Low Correlation Between Air Quality Index and Natural Gas Consumption</h2>\n",
    "    </div>\n",
    "        \"\"\",\n",
    "    width=2000,\n",
    "    height=50\n",
    ")\n",
    "\n",
    "# Combine plot and div into a layout\n",
    "layout = column(div_text, p)\n",
    "\n",
    "# Ensure Bokeh plots are saved to an HTML file\n",
    "output_file(\"/Users/leomarcrowal/GitHuB_Local/Project-3/static/pages/correlation_of_AQI_vs_TotalNGas.html\")\n",
    "\n",
    "# Use a new document to save the plot\n",
    "curdoc().add_root(layout)\n",
    "save(layout)\n"
   ]
  },
  {
   "cell_type": "markdown",
   "metadata": {},
   "source": []
  },
  {
   "cell_type": "markdown",
   "metadata": {},
   "source": []
  }
 ],
 "metadata": {
  "kernelspec": {
   "display_name": "dev",
   "language": "python",
   "name": "python3"
  },
  "language_info": {
   "codemirror_mode": {
    "name": "ipython",
    "version": 3
   },
   "file_extension": ".py",
   "mimetype": "text/x-python",
   "name": "python",
   "nbconvert_exporter": "python",
   "pygments_lexer": "ipython3",
   "version": "3.10.14"
  }
 },
 "nbformat": 4,
 "nbformat_minor": 2
}
